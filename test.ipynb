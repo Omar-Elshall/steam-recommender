{
 "cells": [
  {
   "cell_type": "code",
   "execution_count": 1,
   "id": "879a0f86",
   "metadata": {},
   "outputs": [
    {
     "name": "stdout",
     "output_type": "stream",
     "text": [
      "data/australian_user_reviews.json\n",
      "data/australian_users_items.json\n",
      "data/steam_games.json\n",
      "Simple yet with great replayability. In my opinion does \"zombie\" hordes and team work better than left 4 dead plus has a global leveling system. Alot of down to earth \"zombie\" splattering fun for the whole family. Amazed this sort of FPS is so rare.\n",
      "It's unique and worth a playthrough.\n",
      "Great atmosphere. The gunplay can be a bit chunky at times but at the end of the day this game is definitely worth it and I hope they do a sequel...so buy the game so I get a sequel!\n"
     ]
    }
   ],
   "source": [
    "\n",
    "import pandas as pd\n",
    "import ast\n",
    "\n",
    "pd.set_option('display.max_colwidth', None)\n",
    "\n",
    "paths = ['data/australian_user_reviews.json','data/australian_users_items.json','data/steam_games.json']\n",
    "sets = [] \n",
    "\n",
    "for each in paths:\n",
    "    file_path = each\n",
    "    print(file_path)\n",
    "    data = []\n",
    "    with open(file_path, 'r') as file:\n",
    "        for line in file:\n",
    "            dict_data = ast.literal_eval(line)\n",
    "            data.append(dict_data)\n",
    "        sets.append(data)\n",
    "\n",
    "reviews = pd.DataFrame(sets[0])\n",
    "items = pd.DataFrame(sets[1])\n",
    "games = pd.DataFrame(sets[2])\n",
    "\n",
    "#converting json to dataframes\n",
    "reviews.to_csv('data/reviews.csv', index=False)\n",
    "items.to_csv('data/items.csv', index=False)\n",
    "games.to_csv('data/games.csv', index=False)\n",
    "\n",
    "\n",
    "for each in reviews.iloc[0][\"reviews\"]:\n",
    "    print(each[\"review\"])\n",
    "\n"
   ]
  }
 ],
 "metadata": {
  "kernelspec": {
   "display_name": "Python 3",
   "language": "python",
   "name": "python3"
  },
  "language_info": {
   "codemirror_mode": {
    "name": "ipython",
    "version": 3
   },
   "file_extension": ".py",
   "mimetype": "text/x-python",
   "name": "python",
   "nbconvert_exporter": "python",
   "pygments_lexer": "ipython3",
   "version": "3.10.12"
  }
 },
 "nbformat": 4,
 "nbformat_minor": 5
}
